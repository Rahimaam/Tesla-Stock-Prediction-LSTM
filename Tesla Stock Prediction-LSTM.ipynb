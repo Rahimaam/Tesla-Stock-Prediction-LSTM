{
 "cells": [
  {
   "cell_type": "code",
   "execution_count": 1,
   "id": "a9bcb925",
   "metadata": {},
   "outputs": [],
   "source": [
    "import numpy as np\n",
    "import pandas as pd\n",
    "import matplotlib.pyplot as plt\n",
    "from sklearn.preprocessing import MinMaxScaler\n",
    "from tensorflow.keras.models import Sequential\n",
    "from tensorflow.keras.layers import LSTM, Dense"
   ]
  },
  {
   "cell_type": "code",
   "execution_count": 2,
   "id": "56686f2f",
   "metadata": {},
   "outputs": [],
   "source": [
    "df = pd.read_csv('tesla.csv')"
   ]
  },
  {
   "cell_type": "code",
   "execution_count": 3,
   "id": "fd32698e",
   "metadata": {},
   "outputs": [
    {
     "data": {
      "text/html": [
       "<div>\n",
       "<style scoped>\n",
       "    .dataframe tbody tr th:only-of-type {\n",
       "        vertical-align: middle;\n",
       "    }\n",
       "\n",
       "    .dataframe tbody tr th {\n",
       "        vertical-align: top;\n",
       "    }\n",
       "\n",
       "    .dataframe thead th {\n",
       "        text-align: right;\n",
       "    }\n",
       "</style>\n",
       "<table border=\"1\" class=\"dataframe\">\n",
       "  <thead>\n",
       "    <tr style=\"text-align: right;\">\n",
       "      <th></th>\n",
       "      <th>Unnamed: 0</th>\n",
       "      <th>Date</th>\n",
       "      <th>Open</th>\n",
       "      <th>High</th>\n",
       "      <th>Low</th>\n",
       "      <th>Close*</th>\n",
       "      <th>Adj Close**</th>\n",
       "      <th>Volume</th>\n",
       "    </tr>\n",
       "  </thead>\n",
       "  <tbody>\n",
       "    <tr>\n",
       "      <th>0</th>\n",
       "      <td>0</td>\n",
       "      <td>Nov 20, 2023</td>\n",
       "      <td>234.04</td>\n",
       "      <td>237.10</td>\n",
       "      <td>231.02</td>\n",
       "      <td>235.60</td>\n",
       "      <td>235.60</td>\n",
       "      <td>115,325,704</td>\n",
       "    </tr>\n",
       "    <tr>\n",
       "      <th>1</th>\n",
       "      <td>1</td>\n",
       "      <td>Nov 17, 2023</td>\n",
       "      <td>232.00</td>\n",
       "      <td>237.39</td>\n",
       "      <td>226.54</td>\n",
       "      <td>234.30</td>\n",
       "      <td>234.30</td>\n",
       "      <td>142,532,800</td>\n",
       "    </tr>\n",
       "    <tr>\n",
       "      <th>2</th>\n",
       "      <td>2</td>\n",
       "      <td>Nov 16, 2023</td>\n",
       "      <td>239.49</td>\n",
       "      <td>240.88</td>\n",
       "      <td>230.96</td>\n",
       "      <td>233.59</td>\n",
       "      <td>233.59</td>\n",
       "      <td>136,816,800</td>\n",
       "    </tr>\n",
       "    <tr>\n",
       "      <th>3</th>\n",
       "      <td>3</td>\n",
       "      <td>Nov 15, 2023</td>\n",
       "      <td>239.29</td>\n",
       "      <td>246.70</td>\n",
       "      <td>236.45</td>\n",
       "      <td>242.84</td>\n",
       "      <td>242.84</td>\n",
       "      <td>150,354,000</td>\n",
       "    </tr>\n",
       "    <tr>\n",
       "      <th>4</th>\n",
       "      <td>4</td>\n",
       "      <td>Nov 14, 2023</td>\n",
       "      <td>235.03</td>\n",
       "      <td>238.14</td>\n",
       "      <td>230.72</td>\n",
       "      <td>237.41</td>\n",
       "      <td>237.41</td>\n",
       "      <td>149,771,600</td>\n",
       "    </tr>\n",
       "  </tbody>\n",
       "</table>\n",
       "</div>"
      ],
      "text/plain": [
       "   Unnamed: 0          Date    Open    High     Low  Close*  Adj Close**  \\\n",
       "0           0  Nov 20, 2023  234.04  237.10  231.02  235.60       235.60   \n",
       "1           1  Nov 17, 2023  232.00  237.39  226.54  234.30       234.30   \n",
       "2           2  Nov 16, 2023  239.49  240.88  230.96  233.59       233.59   \n",
       "3           3  Nov 15, 2023  239.29  246.70  236.45  242.84       242.84   \n",
       "4           4  Nov 14, 2023  235.03  238.14  230.72  237.41       237.41   \n",
       "\n",
       "        Volume  \n",
       "0  115,325,704  \n",
       "1  142,532,800  \n",
       "2  136,816,800  \n",
       "3  150,354,000  \n",
       "4  149,771,600  "
      ]
     },
     "execution_count": 3,
     "metadata": {},
     "output_type": "execute_result"
    }
   ],
   "source": [
    "df.head()"
   ]
  },
  {
   "cell_type": "code",
   "execution_count": 12,
   "id": "f81964ec",
   "metadata": {
    "scrolled": true
   },
   "outputs": [
    {
     "name": "stdout",
     "output_type": "stream",
     "text": [
      "<class 'pandas.core.frame.DataFrame'>\n",
      "RangeIndex: 100 entries, 0 to 99\n",
      "Data columns (total 8 columns):\n",
      " #   Column       Non-Null Count  Dtype  \n",
      "---  ------       --------------  -----  \n",
      " 0   Unnamed: 0   100 non-null    int64  \n",
      " 1   Date         100 non-null    object \n",
      " 2   Open         100 non-null    float64\n",
      " 3   High         100 non-null    float64\n",
      " 4   Low          100 non-null    float64\n",
      " 5   Close*       100 non-null    float64\n",
      " 6   Adj Close**  100 non-null    float64\n",
      " 7   Volume       100 non-null    object \n",
      "dtypes: float64(5), int64(1), object(2)\n",
      "memory usage: 6.4+ KB\n"
     ]
    }
   ],
   "source": [
    "df.info()"
   ]
  },
  {
   "cell_type": "code",
   "execution_count": 13,
   "id": "e9d24cb5",
   "metadata": {},
   "outputs": [],
   "source": [
    "data = df['Close*'].values.reshape(-1, 1)\n",
    "scaler = MinMaxScaler(feature_range=(0, 1))\n",
    "scaled_data = scaler.fit_transform(data)\n",
    "\n",
    "# Convert 'Volume' to numeric type\n",
    "df['Volume'] = pd.to_numeric(df['Volume'], errors='coerce')\n",
    "\n",
    "# Create sequences\n",
    "sequence_length = 10\n",
    "sequences = []\n",
    "target = []\n",
    "\n",
    "for i in range(len(scaled_data) - sequence_length):\n",
    "    seq = scaled_data[i:i+sequence_length]\n",
    "    label = scaled_data[i+sequence_length:i+sequence_length+1]\n",
    "    sequences.append(seq)\n",
    "    target.append(label)\n",
    "\n",
    "# Convert to numpy arrays\n",
    "sequences = np.array(sequences)\n",
    "target = np.array(target)"
   ]
  },
  {
   "cell_type": "code",
   "execution_count": 14,
   "id": "8e64d03c",
   "metadata": {},
   "outputs": [],
   "source": [
    "split_ratio = 0.8\n",
    "split = int(split_ratio * len(sequences))\n",
    "\n",
    "X_train = sequences[:split]\n",
    "y_train = target[:split]\n",
    "X_test = sequences[split:]\n",
    "y_test = target[split:]"
   ]
  },
  {
   "cell_type": "code",
   "execution_count": 15,
   "id": "6e8e85a4",
   "metadata": {},
   "outputs": [],
   "source": [
    "model = Sequential()\n",
    "model.add(LSTM(50, activation='relu', input_shape=(sequence_length, 1)))\n",
    "model.add(Dense(1))\n",
    "model.compile(optimizer='adam', loss='mean_squared_error')"
   ]
  },
  {
   "cell_type": "code",
   "execution_count": 16,
   "id": "7bbdcbd2",
   "metadata": {},
   "outputs": [
    {
     "name": "stdout",
     "output_type": "stream",
     "text": [
      "Epoch 1/50\n",
      "3/3 [==============================] - 2s 10ms/step - loss: 0.3319\n",
      "Epoch 2/50\n",
      "3/3 [==============================] - 0s 8ms/step - loss: 0.3035\n",
      "Epoch 3/50\n",
      "3/3 [==============================] - 0s 7ms/step - loss: 0.2790\n",
      "Epoch 4/50\n",
      "3/3 [==============================] - 0s 8ms/step - loss: 0.2577\n",
      "Epoch 5/50\n",
      "3/3 [==============================] - 0s 9ms/step - loss: 0.2387\n",
      "Epoch 6/50\n",
      "3/3 [==============================] - 0s 8ms/step - loss: 0.2206\n",
      "Epoch 7/50\n",
      "3/3 [==============================] - 0s 7ms/step - loss: 0.2019\n",
      "Epoch 8/50\n",
      "3/3 [==============================] - 0s 7ms/step - loss: 0.1831\n",
      "Epoch 9/50\n",
      "3/3 [==============================] - 0s 7ms/step - loss: 0.1628\n",
      "Epoch 10/50\n",
      "3/3 [==============================] - 0s 8ms/step - loss: 0.1399\n",
      "Epoch 11/50\n",
      "3/3 [==============================] - 0s 4ms/step - loss: 0.1162\n",
      "Epoch 12/50\n",
      "3/3 [==============================] - 0s 7ms/step - loss: 0.0909\n",
      "Epoch 13/50\n",
      "3/3 [==============================] - 0s 7ms/step - loss: 0.0656\n",
      "Epoch 14/50\n",
      "3/3 [==============================] - 0s 7ms/step - loss: 0.0447\n",
      "Epoch 15/50\n",
      "3/3 [==============================] - 0s 7ms/step - loss: 0.0307\n",
      "Epoch 16/50\n",
      "3/3 [==============================] - 0s 7ms/step - loss: 0.0270\n",
      "Epoch 17/50\n",
      "3/3 [==============================] - 0s 7ms/step - loss: 0.0338\n",
      "Epoch 18/50\n",
      "3/3 [==============================] - 0s 8ms/step - loss: 0.0356\n",
      "Epoch 19/50\n",
      "3/3 [==============================] - 0s 7ms/step - loss: 0.0294\n",
      "Epoch 20/50\n",
      "3/3 [==============================] - 0s 6ms/step - loss: 0.0253\n",
      "Epoch 21/50\n",
      "3/3 [==============================] - 0s 8ms/step - loss: 0.0246\n",
      "Epoch 22/50\n",
      "3/3 [==============================] - 0s 8ms/step - loss: 0.0246\n",
      "Epoch 23/50\n",
      "3/3 [==============================] - 0s 7ms/step - loss: 0.0241\n",
      "Epoch 24/50\n",
      "3/3 [==============================] - 0s 8ms/step - loss: 0.0231\n",
      "Epoch 25/50\n",
      "3/3 [==============================] - 0s 8ms/step - loss: 0.0216\n",
      "Epoch 26/50\n",
      "3/3 [==============================] - 0s 9ms/step - loss: 0.0210\n",
      "Epoch 27/50\n",
      "3/3 [==============================] - 0s 6ms/step - loss: 0.0209\n",
      "Epoch 28/50\n",
      "3/3 [==============================] - 0s 7ms/step - loss: 0.0204\n",
      "Epoch 29/50\n",
      "3/3 [==============================] - 0s 9ms/step - loss: 0.0200\n",
      "Epoch 30/50\n",
      "3/3 [==============================] - 0s 7ms/step - loss: 0.0197\n",
      "Epoch 31/50\n",
      "3/3 [==============================] - 0s 7ms/step - loss: 0.0192\n",
      "Epoch 32/50\n",
      "3/3 [==============================] - 0s 8ms/step - loss: 0.0183\n",
      "Epoch 33/50\n",
      "3/3 [==============================] - 0s 8ms/step - loss: 0.0179\n",
      "Epoch 34/50\n",
      "3/3 [==============================] - 0s 6ms/step - loss: 0.0178\n",
      "Epoch 35/50\n",
      "3/3 [==============================] - 0s 8ms/step - loss: 0.0172\n",
      "Epoch 36/50\n",
      "3/3 [==============================] - 0s 6ms/step - loss: 0.0169\n",
      "Epoch 37/50\n",
      "3/3 [==============================] - 0s 8ms/step - loss: 0.0165\n",
      "Epoch 38/50\n",
      "3/3 [==============================] - 0s 7ms/step - loss: 0.0161\n",
      "Epoch 39/50\n",
      "3/3 [==============================] - 0s 7ms/step - loss: 0.0158\n",
      "Epoch 40/50\n",
      "3/3 [==============================] - 0s 7ms/step - loss: 0.0154\n",
      "Epoch 41/50\n",
      "3/3 [==============================] - 0s 7ms/step - loss: 0.0153\n",
      "Epoch 42/50\n",
      "3/3 [==============================] - 0s 7ms/step - loss: 0.0146\n",
      "Epoch 43/50\n",
      "3/3 [==============================] - 0s 7ms/step - loss: 0.0146\n",
      "Epoch 44/50\n",
      "3/3 [==============================] - 0s 6ms/step - loss: 0.0149\n",
      "Epoch 45/50\n",
      "3/3 [==============================] - 0s 6ms/step - loss: 0.0141\n",
      "Epoch 46/50\n",
      "3/3 [==============================] - 0s 8ms/step - loss: 0.0137\n",
      "Epoch 47/50\n",
      "3/3 [==============================] - 0s 7ms/step - loss: 0.0134\n",
      "Epoch 48/50\n",
      "3/3 [==============================] - 0s 8ms/step - loss: 0.0130\n",
      "Epoch 49/50\n",
      "3/3 [==============================] - 0s 6ms/step - loss: 0.0125\n",
      "Epoch 50/50\n",
      "3/3 [==============================] - 0s 7ms/step - loss: 0.0124\n"
     ]
    },
    {
     "data": {
      "text/plain": [
       "<keras.callbacks.History at 0x1a8fe33b9a0>"
      ]
     },
     "execution_count": 16,
     "metadata": {},
     "output_type": "execute_result"
    }
   ],
   "source": [
    "model.fit(X_train, y_train, epochs=50, batch_size=32)"
   ]
  },
  {
   "cell_type": "code",
   "execution_count": 17,
   "id": "335d7ff1",
   "metadata": {},
   "outputs": [
    {
     "name": "stdout",
     "output_type": "stream",
     "text": [
      "1/1 [==============================] - 0s 311ms/step\n"
     ]
    }
   ],
   "source": [
    "predictions = model.predict(X_test)"
   ]
  },
  {
   "cell_type": "code",
   "execution_count": 18,
   "id": "2af40c18",
   "metadata": {},
   "outputs": [],
   "source": [
    "predictions = scaler.inverse_transform(predictions)\n",
    "y_test_reshaped = y_test.reshape(-1, 1)\n",
    "y_test_original = scaler.inverse_transform(y_test_reshaped)\n"
   ]
  },
  {
   "cell_type": "code",
   "execution_count": 19,
   "id": "537fa389",
   "metadata": {},
   "outputs": [
    {
     "name": "stdout",
     "output_type": "stream",
     "text": [
      "Mean Squared Error: 150.37779794575488\n"
     ]
    }
   ],
   "source": [
    "from sklearn.metrics import mean_squared_error\n",
    "mse = mean_squared_error(y_test_original, predictions)\n",
    "print(f'Mean Squared Error: {mse}')"
   ]
  },
  {
   "cell_type": "code",
   "execution_count": 20,
   "id": "c7c02195",
   "metadata": {},
   "outputs": [
    {
     "data": {
      "image/png": "[encoded data removed]",
      "text/plain": [
       "<Figure size 1080x432 with 1 Axes>"
      ]
     },
     "metadata": {
      "needs_background": "light"
     },
     "output_type": "display_data"
    }
   ],
   "source": [
    "plt.figure(figsize=(15, 6))\n",
    "plt.plot(y_test_original, label='Actual Prices')\n",
    "plt.plot(predictions, label='Predicted Prices')\n",
    "plt.legend()\n",
    "plt.show()"
   ]
  },
  {
   "cell_type": "code",
   "execution_count": null,
   "id": "10a610ae",
   "metadata": {},
   "outputs": [],
   "source": []
  }
 ],
 "metadata": {
  "kernelspec": {
   "display_name": "Python 3 (ipykernel)",
   "language": "python",
   "name": "python3"
  },
  "language_info": {
   "codemirror_mode": {
    "name": "ipython",
    "version": 3
   },
   "file_extension": ".py",
   "mimetype": "text/x-python",
   "name": "python",
   "nbconvert_exporter": "python",
   "pygments_lexer": "ipython3",
   "version": "3.9.12"
  }
 },
 "nbformat": 4,
 "nbformat_minor": 5
}
